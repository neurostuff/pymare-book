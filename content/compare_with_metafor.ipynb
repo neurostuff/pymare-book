{
 "cells": [
  {
   "cell_type": "code",
   "execution_count": 1,
   "id": "6aaeef36",
   "metadata": {
    "kernel": "Python3"
   },
   "outputs": [
    {
     "name": "stderr",
     "output_type": "stream",
     "text": [
      "/var/folders/ph/w3cbhj9n16s9bx4l7gq3dq6m0000gn/T/ipykernel_87232/2685489524.py:1: DeprecationWarning: Using or importing the ABCs from 'collections' instead of from 'collections.abc' is deprecated since Python 3.3, and in 3.9 it will stop working\n",
      "  from collections import Sized, KeysView, Sequence\n"
     ]
    }
   ],
   "source": [
    "%use python3\n",
    "import pymare"
   ]
  },
  {
   "cell_type": "code",
   "execution_count": 2,
   "id": "9581548e",
   "metadata": {
    "kernel": "R"
   },
   "outputs": [
    {
     "name": "stderr",
     "output_type": "stream",
     "text": [
      "Loading required package: Matrix\n",
      "Loading 'metafor' package (version 2.1-0). For an overview \n",
      "and introduction to the package please type: help(metafor).\n"
     ]
    },
    {
     "data": {
      "text/html": [
       "<table>\n",
       "<thead><tr><th scope=col>trial</th><th scope=col>author</th><th scope=col>year</th><th scope=col>tpos</th><th scope=col>tneg</th><th scope=col>cpos</th><th scope=col>cneg</th><th scope=col>ablat</th><th scope=col>alloc</th></tr></thead>\n",
       "<tbody>\n",
       "\t<tr><td> 1                  </td><td>Aronson             </td><td>1948                </td><td>  4                 </td><td>  119               </td><td> 11                 </td><td>  128               </td><td>44                  </td><td>random              </td></tr>\n",
       "\t<tr><td> 2                                                              </td><td><span style=white-space:pre-wrap>Ferguson &amp; Simes    </span></td><td>1949                                                            </td><td><span style=white-space:pre-wrap>  6</span>                     </td><td><span style=white-space:pre-wrap>  300</span>                   </td><td> 29                                                             </td><td><span style=white-space:pre-wrap>  274</span>                   </td><td>55                                                              </td><td><span style=white-space:pre-wrap>random    </span>              </td></tr>\n",
       "\t<tr><td> 3                  </td><td>Rosenthal et al     </td><td>1960                </td><td>  3                 </td><td>  228               </td><td> 11                 </td><td>  209               </td><td>42                  </td><td>random              </td></tr>\n",
       "\t<tr><td> 4                                                              </td><td><span style=white-space:pre-wrap>Hart &amp; Sutherland   </span></td><td>1977                                                            </td><td> 62                                                             </td><td>13536                                                           </td><td>248                                                             </td><td>12619                                                           </td><td>52                                                              </td><td><span style=white-space:pre-wrap>random    </span>              </td></tr>\n",
       "\t<tr><td> 5                  </td><td>Frimodt-Moller et al</td><td>1973                </td><td> 33                 </td><td> 5036               </td><td> 47                 </td><td> 5761               </td><td>13                  </td><td>alternate           </td></tr>\n",
       "\t<tr><td> 6                                                              </td><td><span style=white-space:pre-wrap>Stein &amp; Aronson     </span></td><td>1953                                                            </td><td>180                                                             </td><td> 1361                                                           </td><td>372                                                             </td><td> 1079                                                           </td><td>44                                                              </td><td>alternate                                                       </td></tr>\n",
       "\t<tr><td> 7                  </td><td>Vandiviere et al    </td><td>1973                </td><td>  8                 </td><td> 2537               </td><td> 10                 </td><td>  619               </td><td>19                  </td><td>random              </td></tr>\n",
       "\t<tr><td> 8                  </td><td>TPT Madras          </td><td>1980                </td><td>505                 </td><td>87886               </td><td>499                 </td><td>87892               </td><td>13                  </td><td>random              </td></tr>\n",
       "\t<tr><td> 9                                                              </td><td><span style=white-space:pre-wrap>Coetzee &amp; Berjak    </span></td><td>1968                                                            </td><td> 29                                                             </td><td> 7470                                                           </td><td> 45                                                             </td><td> 7232                                                           </td><td>27                                                              </td><td><span style=white-space:pre-wrap>random    </span>              </td></tr>\n",
       "\t<tr><td>10                  </td><td>Rosenthal et al     </td><td>1961                </td><td> 17                 </td><td> 1699               </td><td> 65                 </td><td> 1600               </td><td>42                  </td><td>systematic          </td></tr>\n",
       "\t<tr><td>11                  </td><td>Comstock et al      </td><td>1974                </td><td>186                 </td><td>50448               </td><td>141                 </td><td>27197               </td><td>18                  </td><td>systematic          </td></tr>\n",
       "\t<tr><td>12                                                              </td><td><span style=white-space:pre-wrap>Comstock &amp; Webster  </span></td><td>1969                                                            </td><td><span style=white-space:pre-wrap>  5</span>                     </td><td> 2493                                                           </td><td><span style=white-space:pre-wrap>  3</span>                     </td><td> 2338                                                           </td><td>33                                                              </td><td>systematic                                                      </td></tr>\n",
       "\t<tr><td>13                  </td><td>Comstock et al      </td><td>1976                </td><td> 27                 </td><td>16886               </td><td> 29                 </td><td>17825               </td><td>33                  </td><td>systematic          </td></tr>\n",
       "</tbody>\n",
       "</table>\n"
      ],
      "text/latex": [
       "\\begin{tabular}{r|lllllllll}\n",
       " trial & author & year & tpos & tneg & cpos & cneg & ablat & alloc\\\\\n",
       "\\hline\n",
       "\t  1                   & Aronson              & 1948                 &   4                  &   119                &  11                  &   128                & 44                   & random              \\\\\n",
       "\t  2                     & Ferguson \\& Simes     & 1949                   &   6                    &   300                  &  29                    &   274                  & 55                     & random                \\\\\n",
       "\t  3                   & Rosenthal et al      & 1960                 &   3                  &   228                &  11                  &   209                & 42                   & random              \\\\\n",
       "\t  4                     & Hart \\& Sutherland    & 1977                   &  62                    & 13536                  & 248                    & 12619                  & 52                     & random                \\\\\n",
       "\t  5                   & Frimodt-Moller et al & 1973                 &  33                  &  5036                &  47                  &  5761                & 13                   & alternate           \\\\\n",
       "\t  6                     & Stein \\& Aronson      & 1953                   & 180                    &  1361                  & 372                    &  1079                  & 44                     & alternate             \\\\\n",
       "\t  7                   & Vandiviere et al     & 1973                 &   8                  &  2537                &  10                  &   619                & 19                   & random              \\\\\n",
       "\t  8                   & TPT Madras           & 1980                 & 505                  & 87886                & 499                  & 87892                & 13                   & random              \\\\\n",
       "\t  9                     & Coetzee \\& Berjak     & 1968                   &  29                    &  7470                  &  45                    &  7232                  & 27                     & random                \\\\\n",
       "\t 10                   & Rosenthal et al      & 1961                 &  17                  &  1699                &  65                  &  1600                & 42                   & systematic          \\\\\n",
       "\t 11                   & Comstock et al       & 1974                 & 186                  & 50448                & 141                  & 27197                & 18                   & systematic          \\\\\n",
       "\t 12                     & Comstock \\& Webster   & 1969                   &   5                    &  2493                  &   3                    &  2338                  & 33                     & systematic            \\\\\n",
       "\t 13                   & Comstock et al       & 1976                 &  27                  & 16886                &  29                  & 17825                & 33                   & systematic          \\\\\n",
       "\\end{tabular}\n"
      ],
      "text/markdown": [
       "\n",
       "| trial | author | year | tpos | tneg | cpos | cneg | ablat | alloc |\n",
       "|---|---|---|---|---|---|---|---|---|\n",
       "|  1                   | Aronson              | 1948                 |   4                  |   119                |  11                  |   128                | 44                   | random               |\n",
       "|  2                   | Ferguson & Simes     | 1949                 |   6                  |   300                |  29                  |   274                | 55                   | random               |\n",
       "|  3                   | Rosenthal et al      | 1960                 |   3                  |   228                |  11                  |   209                | 42                   | random               |\n",
       "|  4                   | Hart & Sutherland    | 1977                 |  62                  | 13536                | 248                  | 12619                | 52                   | random               |\n",
       "|  5                   | Frimodt-Moller et al | 1973                 |  33                  |  5036                |  47                  |  5761                | 13                   | alternate            |\n",
       "|  6                   | Stein & Aronson      | 1953                 | 180                  |  1361                | 372                  |  1079                | 44                   | alternate            |\n",
       "|  7                   | Vandiviere et al     | 1973                 |   8                  |  2537                |  10                  |   619                | 19                   | random               |\n",
       "|  8                   | TPT Madras           | 1980                 | 505                  | 87886                | 499                  | 87892                | 13                   | random               |\n",
       "|  9                   | Coetzee & Berjak     | 1968                 |  29                  |  7470                |  45                  |  7232                | 27                   | random               |\n",
       "| 10                   | Rosenthal et al      | 1961                 |  17                  |  1699                |  65                  |  1600                | 42                   | systematic           |\n",
       "| 11                   | Comstock et al       | 1974                 | 186                  | 50448                | 141                  | 27197                | 18                   | systematic           |\n",
       "| 12                   | Comstock & Webster   | 1969                 |   5                  |  2493                |   3                  |  2338                | 33                   | systematic           |\n",
       "| 13                   | Comstock et al       | 1976                 |  27                  | 16886                |  29                  | 17825                | 33                   | systematic           |\n",
       "\n"
      ],
      "text/plain": [
       "   trial author               year tpos tneg  cpos cneg  ablat alloc     \n",
       "1   1    Aronson              1948   4    119  11    128 44    random    \n",
       "2   2    Ferguson & Simes     1949   6    300  29    274 55    random    \n",
       "3   3    Rosenthal et al      1960   3    228  11    209 42    random    \n",
       "4   4    Hart & Sutherland    1977  62  13536 248  12619 52    random    \n",
       "5   5    Frimodt-Moller et al 1973  33   5036  47   5761 13    alternate \n",
       "6   6    Stein & Aronson      1953 180   1361 372   1079 44    alternate \n",
       "7   7    Vandiviere et al     1973   8   2537  10    619 19    random    \n",
       "8   8    TPT Madras           1980 505  87886 499  87892 13    random    \n",
       "9   9    Coetzee & Berjak     1968  29   7470  45   7232 27    random    \n",
       "10 10    Rosenthal et al      1961  17   1699  65   1600 42    systematic\n",
       "11 11    Comstock et al       1974 186  50448 141  27197 18    systematic\n",
       "12 12    Comstock & Webster   1969   5   2493   3   2338 33    systematic\n",
       "13 13    Comstock et al       1976  27  16886  29  17825 33    systematic"
      ]
     },
     "metadata": {},
     "output_type": "display_data"
    }
   ],
   "source": [
    "%use ir\n",
    "library(metafor)\n",
    "\n",
    "dat <- dat.colditz1994\n",
    "dat"
   ]
  },
  {
   "cell_type": "code",
   "execution_count": 3,
   "id": "3cc01634",
   "metadata": {
    "kernel": "R"
   },
   "outputs": [
    {
     "data": {
      "text/html": [
       "<table>\n",
       "<thead><tr><th scope=col>trial</th><th scope=col>author</th><th scope=col>year</th><th scope=col>tpos</th><th scope=col>tneg</th><th scope=col>cpos</th><th scope=col>cneg</th><th scope=col>ablat</th><th scope=col>alloc</th></tr></thead>\n",
       "<tbody>\n",
       "\t<tr><td> 1                  </td><td>Aronson             </td><td>1948                </td><td>  4                 </td><td>  119               </td><td> 11                 </td><td>  128               </td><td>44                  </td><td>random              </td></tr>\n",
       "\t<tr><td> 2                                                              </td><td><span style=white-space:pre-wrap>Ferguson &amp; Simes    </span></td><td>1949                                                            </td><td><span style=white-space:pre-wrap>  6</span>                     </td><td><span style=white-space:pre-wrap>  300</span>                   </td><td> 29                                                             </td><td><span style=white-space:pre-wrap>  274</span>                   </td><td>55                                                              </td><td><span style=white-space:pre-wrap>random    </span>              </td></tr>\n",
       "\t<tr><td> 3                  </td><td>Rosenthal et al     </td><td>1960                </td><td>  3                 </td><td>  228               </td><td> 11                 </td><td>  209               </td><td>42                  </td><td>random              </td></tr>\n",
       "\t<tr><td> 4                                                              </td><td><span style=white-space:pre-wrap>Hart &amp; Sutherland   </span></td><td>1977                                                            </td><td> 62                                                             </td><td>13536                                                           </td><td>248                                                             </td><td>12619                                                           </td><td>52                                                              </td><td><span style=white-space:pre-wrap>random    </span>              </td></tr>\n",
       "\t<tr><td> 5                  </td><td>Frimodt-Moller et al</td><td>1973                </td><td> 33                 </td><td> 5036               </td><td> 47                 </td><td> 5761               </td><td>13                  </td><td>alternate           </td></tr>\n",
       "\t<tr><td> 6                                                              </td><td><span style=white-space:pre-wrap>Stein &amp; Aronson     </span></td><td>1953                                                            </td><td>180                                                             </td><td> 1361                                                           </td><td>372                                                             </td><td> 1079                                                           </td><td>44                                                              </td><td>alternate                                                       </td></tr>\n",
       "\t<tr><td> 7                  </td><td>Vandiviere et al    </td><td>1973                </td><td>  8                 </td><td> 2537               </td><td> 10                 </td><td>  619               </td><td>19                  </td><td>random              </td></tr>\n",
       "\t<tr><td> 8                  </td><td>TPT Madras          </td><td>1980                </td><td>505                 </td><td>87886               </td><td>499                 </td><td>87892               </td><td>13                  </td><td>random              </td></tr>\n",
       "\t<tr><td> 9                                                              </td><td><span style=white-space:pre-wrap>Coetzee &amp; Berjak    </span></td><td>1968                                                            </td><td> 29                                                             </td><td> 7470                                                           </td><td> 45                                                             </td><td> 7232                                                           </td><td>27                                                              </td><td><span style=white-space:pre-wrap>random    </span>              </td></tr>\n",
       "\t<tr><td>10                  </td><td>Rosenthal et al     </td><td>1961                </td><td> 17                 </td><td> 1699               </td><td> 65                 </td><td> 1600               </td><td>42                  </td><td>systematic          </td></tr>\n",
       "\t<tr><td>11                  </td><td>Comstock et al      </td><td>1974                </td><td>186                 </td><td>50448               </td><td>141                 </td><td>27197               </td><td>18                  </td><td>systematic          </td></tr>\n",
       "\t<tr><td>12                                                              </td><td><span style=white-space:pre-wrap>Comstock &amp; Webster  </span></td><td>1969                                                            </td><td><span style=white-space:pre-wrap>  5</span>                     </td><td> 2493                                                           </td><td><span style=white-space:pre-wrap>  3</span>                     </td><td> 2338                                                           </td><td>33                                                              </td><td>systematic                                                      </td></tr>\n",
       "\t<tr><td>13                  </td><td>Comstock et al      </td><td>1976                </td><td> 27                 </td><td>16886               </td><td> 29                 </td><td>17825               </td><td>33                  </td><td>systematic          </td></tr>\n",
       "</tbody>\n",
       "</table>\n"
      ],
      "text/latex": [
       "\\begin{tabular}{r|lllllllll}\n",
       " trial & author & year & tpos & tneg & cpos & cneg & ablat & alloc\\\\\n",
       "\\hline\n",
       "\t  1                   & Aronson              & 1948                 &   4                  &   119                &  11                  &   128                & 44                   & random              \\\\\n",
       "\t  2                     & Ferguson \\& Simes     & 1949                   &   6                    &   300                  &  29                    &   274                  & 55                     & random                \\\\\n",
       "\t  3                   & Rosenthal et al      & 1960                 &   3                  &   228                &  11                  &   209                & 42                   & random              \\\\\n",
       "\t  4                     & Hart \\& Sutherland    & 1977                   &  62                    & 13536                  & 248                    & 12619                  & 52                     & random                \\\\\n",
       "\t  5                   & Frimodt-Moller et al & 1973                 &  33                  &  5036                &  47                  &  5761                & 13                   & alternate           \\\\\n",
       "\t  6                     & Stein \\& Aronson      & 1953                   & 180                    &  1361                  & 372                    &  1079                  & 44                     & alternate             \\\\\n",
       "\t  7                   & Vandiviere et al     & 1973                 &   8                  &  2537                &  10                  &   619                & 19                   & random              \\\\\n",
       "\t  8                   & TPT Madras           & 1980                 & 505                  & 87886                & 499                  & 87892                & 13                   & random              \\\\\n",
       "\t  9                     & Coetzee \\& Berjak     & 1968                   &  29                    &  7470                  &  45                    &  7232                  & 27                     & random                \\\\\n",
       "\t 10                   & Rosenthal et al      & 1961                 &  17                  &  1699                &  65                  &  1600                & 42                   & systematic          \\\\\n",
       "\t 11                   & Comstock et al       & 1974                 & 186                  & 50448                & 141                  & 27197                & 18                   & systematic          \\\\\n",
       "\t 12                     & Comstock \\& Webster   & 1969                   &   5                    &  2493                  &   3                    &  2338                  & 33                     & systematic            \\\\\n",
       "\t 13                   & Comstock et al       & 1976                 &  27                  & 16886                &  29                  & 17825                & 33                   & systematic          \\\\\n",
       "\\end{tabular}\n"
      ],
      "text/markdown": [
       "\n",
       "| trial | author | year | tpos | tneg | cpos | cneg | ablat | alloc |\n",
       "|---|---|---|---|---|---|---|---|---|\n",
       "|  1                   | Aronson              | 1948                 |   4                  |   119                |  11                  |   128                | 44                   | random               |\n",
       "|  2                   | Ferguson & Simes     | 1949                 |   6                  |   300                |  29                  |   274                | 55                   | random               |\n",
       "|  3                   | Rosenthal et al      | 1960                 |   3                  |   228                |  11                  |   209                | 42                   | random               |\n",
       "|  4                   | Hart & Sutherland    | 1977                 |  62                  | 13536                | 248                  | 12619                | 52                   | random               |\n",
       "|  5                   | Frimodt-Moller et al | 1973                 |  33                  |  5036                |  47                  |  5761                | 13                   | alternate            |\n",
       "|  6                   | Stein & Aronson      | 1953                 | 180                  |  1361                | 372                  |  1079                | 44                   | alternate            |\n",
       "|  7                   | Vandiviere et al     | 1973                 |   8                  |  2537                |  10                  |   619                | 19                   | random               |\n",
       "|  8                   | TPT Madras           | 1980                 | 505                  | 87886                | 499                  | 87892                | 13                   | random               |\n",
       "|  9                   | Coetzee & Berjak     | 1968                 |  29                  |  7470                |  45                  |  7232                | 27                   | random               |\n",
       "| 10                   | Rosenthal et al      | 1961                 |  17                  |  1699                |  65                  |  1600                | 42                   | systematic           |\n",
       "| 11                   | Comstock et al       | 1974                 | 186                  | 50448                | 141                  | 27197                | 18                   | systematic           |\n",
       "| 12                   | Comstock & Webster   | 1969                 |   5                  |  2493                |   3                  |  2338                | 33                   | systematic           |\n",
       "| 13                   | Comstock et al       | 1976                 |  27                  | 16886                |  29                  | 17825                | 33                   | systematic           |\n",
       "\n"
      ],
      "text/plain": [
       "   trial author               year tpos tneg  cpos cneg  ablat alloc     \n",
       "1   1    Aronson              1948   4    119  11    128 44    random    \n",
       "2   2    Ferguson & Simes     1949   6    300  29    274 55    random    \n",
       "3   3    Rosenthal et al      1960   3    228  11    209 42    random    \n",
       "4   4    Hart & Sutherland    1977  62  13536 248  12619 52    random    \n",
       "5   5    Frimodt-Moller et al 1973  33   5036  47   5761 13    alternate \n",
       "6   6    Stein & Aronson      1953 180   1361 372   1079 44    alternate \n",
       "7   7    Vandiviere et al     1973   8   2537  10    619 19    random    \n",
       "8   8    TPT Madras           1980 505  87886 499  87892 13    random    \n",
       "9   9    Coetzee & Berjak     1968  29   7470  45   7232 27    random    \n",
       "10 10    Rosenthal et al      1961  17   1699  65   1600 42    systematic\n",
       "11 11    Comstock et al       1974 186  50448 141  27197 18    systematic\n",
       "12 12    Comstock & Webster   1969   5   2493   3   2338 33    systematic\n",
       "13 13    Comstock et al       1976  27  16886  29  17825 33    systematic"
      ]
     },
     "metadata": {},
     "output_type": "display_data"
    }
   ],
   "source": [
    "dat"
   ]
  },
  {
   "cell_type": "code",
   "execution_count": 4,
   "id": "6929ed75",
   "metadata": {
    "kernel": "Python3"
   },
   "outputs": [
    {
     "data": {
      "text/plain": [
       "'0.0.4rc2'"
      ]
     },
     "execution_count": 4,
     "metadata": {},
     "output_type": "execute_result"
    }
   ],
   "source": [
    "pymare.__version__"
   ]
  },
  {
   "cell_type": "code",
   "execution_count": null,
   "id": "00a0fd6b",
   "metadata": {
    "kernel": "Python3"
   },
   "outputs": [],
   "source": []
  }
 ],
 "metadata": {
  "kernelspec": {
   "display_name": "SoS",
   "language": "sos",
   "name": "sos"
  },
  "language_info": {
   "codemirror_mode": "sos",
   "file_extension": ".sos",
   "mimetype": "text/x-sos",
   "name": "sos",
   "nbconvert_exporter": "sos_notebook.converter.SoS_Exporter",
   "pygments_lexer": "sos"
  },
  "sos": {
   "kernels": [
    [
     "Python3",
     "python3",
     "Python3",
     "#FFD91A",
     {
      "name": "ipython",
      "version": 3
     }
    ],
    [
     "R",
     "ir",
     "R",
     "#DCDCDA",
     "r"
    ]
   ],
   "panel": {
    "displayed": true,
    "height": 0
   },
   "version": "0.23.3"
  }
 },
 "nbformat": 4,
 "nbformat_minor": 5
}
